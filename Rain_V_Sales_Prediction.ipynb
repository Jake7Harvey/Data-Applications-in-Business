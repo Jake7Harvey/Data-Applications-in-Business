{
  "nbformat": 4,
  "nbformat_minor": 0,
  "metadata": {
    "colab": {
      "provenance": [],
      "authorship_tag": "ABX9TyNEq95bsH1Da42mWHBJXLZ0",
      "include_colab_link": true
    },
    "kernelspec": {
      "name": "python3",
      "display_name": "Python 3"
    },
    "language_info": {
      "name": "python"
    }
  },
  "cells": [
    {
      "cell_type": "markdown",
      "metadata": {
        "id": "view-in-github",
        "colab_type": "text"
      },
      "source": [
        "<a href=\"https://colab.research.google.com/github/Jake7Harvey/Data-Applications-in-Business/blob/main/Rain_V_Sales_Prediction.ipynb\" target=\"_parent\"><img src=\"https://colab.research.google.com/assets/colab-badge.svg\" alt=\"Open In Colab\"/></a>"
      ]
    },
    {
      "cell_type": "code",
      "source": [
        "import pandas as pd\n",
        "from sklearn import linear_model\n",
        "\n",
        "df1 = pd.read_csv(\"https://raw.githubusercontent.com/Jake7Harvey/DataFiles/main/DayTotals.csv\")\n",
        "df2 = pd.read_csv(\"https://raw.github.com/Jake7Harvey/DataFiles/main/Temp%20for%202023%20Ada%202.csv\")\n",
        "\n",
        "X = df2[['RAIN', 'RMAX']]\n",
        "y = df1['Day Total']\n",
        "\n",
        "regr = linear_model.LinearRegression()\n",
        "regr.fit(X, y)\n",
        "\n",
        "predictedSales = regr.predict([[1, 1.5]])\n",
        "\n",
        "print(predictedSales)"
      ],
      "metadata": {
        "colab": {
          "base_uri": "https://localhost:8080/"
        },
        "id": "2w6M_sr3rez2",
        "outputId": "c65543ee-4da6-44c9-dcbb-89d72aa50faa"
      },
      "execution_count": null,
      "outputs": [
        {
          "output_type": "stream",
          "name": "stdout",
          "text": [
            "[580.01045745]\n"
          ]
        },
        {
          "output_type": "stream",
          "name": "stderr",
          "text": [
            "/usr/local/lib/python3.10/dist-packages/sklearn/base.py:439: UserWarning: X does not have valid feature names, but LinearRegression was fitted with feature names\n",
            "  warnings.warn(\n"
          ]
        }
      ]
    },
    {
      "cell_type": "code",
      "source": [
        "import numpy as np\n",
        "\n",
        "x=np.linspace(0, 4, 1000)\n",
        "x = np.concatenate((x,x))\n",
        "x = x.reshape([2,1000])\n",
        "x = x.transpose()\n",
        "x"
      ],
      "metadata": {
        "colab": {
          "base_uri": "https://localhost:8080/"
        },
        "id": "15ef8TR76UNo",
        "outputId": "2eea2df9-d3ef-42ac-f5fa-bbc059bf3bde"
      },
      "execution_count": null,
      "outputs": [
        {
          "output_type": "execute_result",
          "data": {
            "text/plain": [
              "array([[0.        , 0.        ],\n",
              "       [0.004004  , 0.004004  ],\n",
              "       [0.00800801, 0.00800801],\n",
              "       ...,\n",
              "       [3.99199199, 3.99199199],\n",
              "       [3.995996  , 3.995996  ],\n",
              "       [4.        , 4.        ]])"
            ]
          },
          "metadata": {},
          "execution_count": 55
        }
      ]
    },
    {
      "cell_type": "code",
      "source": [
        "y = regr.predict(x)\n",
        "y"
      ],
      "metadata": {
        "id": "cFsaHmTe6mTk"
      },
      "execution_count": null,
      "outputs": []
    },
    {
      "cell_type": "code",
      "source": [
        "import matplotlib.pyplot as plt\n",
        "\n",
        "plt.plot(np.linspace(0,4,1000),y)\n",
        "plt.show()"
      ],
      "metadata": {
        "colab": {
          "base_uri": "https://localhost:8080/",
          "height": 430
        },
        "id": "vCsfvWGL5Lwj",
        "outputId": "e4b97df1-7a5d-4092-f5b9-f5904d65b35a"
      },
      "execution_count": null,
      "outputs": [
        {
          "output_type": "display_data",
          "data": {
            "text/plain": [
              "<Figure size 640x480 with 1 Axes>"
            ],
            "image/png": "[encoded data removed]"
          },
          "metadata": {}
        }
      ]
    }
  ]
}